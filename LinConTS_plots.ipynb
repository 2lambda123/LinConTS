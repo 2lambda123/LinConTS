{
 "cells": [
  {
   "cell_type": "markdown",
   "metadata": {},
   "source": [
    "# Thompson Sampling for Linearly Constrained Bandits\n",
    "## Plots for Regret and Violation"
   ]
  },
  {
   "cell_type": "code",
   "execution_count": null,
   "metadata": {},
   "outputs": [],
   "source": [
    "import numpy as np\n",
    "from matplotlib import pyplot as plt"
   ]
  },
  {
   "cell_type": "markdown",
   "metadata": {},
   "source": [
    "# Load Data"
   ]
  },
  {
   "cell_type": "code",
   "execution_count": null,
   "metadata": {},
   "outputs": [],
   "source": [
    "results_dir = 'results/'\n",
    "\n",
    "filename    = 'edX_eta0.50_T50000_N16'\n",
    "#filename    = 'coupon_purchase_eta0.25_T10000_N16'\n",
    "file_ext    = '.npy'\n",
    "\n",
    "#data = np.load('results/edX_eta0.30_T10000_N16.npy', allow_pickle=True)[()]\n",
    "#data = np.load('results/edX_eta0.80_T10000_N16.npy', allow_pickle=True)[()]\n",
    "\n",
    "data = np.load( results_dir + filename + file_ext, allow_pickle=True )[()]\n",
    "\n",
    "filename = filename.replace('.','_')\n",
    "image_format = '.png'\n",
    "\n",
    "T = data['T']\n",
    "N = data['N']\n",
    "target_success_prob = data['constraint']\n",
    "\n",
    "stationay_opt_reward = data['stationary_opt_reward']#0.0139"
   ]
  },
  {
   "cell_type": "code",
   "execution_count": null,
   "metadata": {},
   "outputs": [],
   "source": [
    "cum_constraint = np.tile( target_success_prob * np.arange( 0, T, 1 ), [ N, 1 ] )\n",
    "cum_opt_reward = np.tile( stationay_opt_reward * np.arange( 0, T, 1 ), [ N, 1 ] )\n",
    "\n",
    "lincon_kl_ucb_cum_reward = np.cumsum( data['lincon_kl_ucb_reward_values'], axis = 1 )\n",
    "lincon_ts_cum_reward     = np.cumsum( data['lincon_ts_reward_values'], axis = 1 )\n",
    "\n",
    "lincon_kl_ucb_cum_violation = np.maximum( 0.0, cum_constraint - np.cumsum( data['lincon_kl_ucb_reward_events'], axis=1 ) )\n",
    "lincon_ts_cum_violation     = np.maximum( 0.0, cum_constraint - np.cumsum( data['lincon_ts_reward_events'], axis=1 ) )\n",
    "\n",
    "lincon_kl_ucb_cum_regret = np.maximum(0.0, cum_opt_reward - lincon_kl_ucb_cum_reward)\n",
    "lincon_ts_cum_regret     = np.maximum(0.0, cum_opt_reward - lincon_ts_cum_reward)"
   ]
  },
  {
   "cell_type": "markdown",
   "metadata": {},
   "source": [
    "# Plot Results"
   ]
  },
  {
   "cell_type": "code",
   "execution_count": null,
   "metadata": {
    "scrolled": false
   },
   "outputs": [],
   "source": [
    "plt.rcParams.update({'font.size': 30, \n",
    "                     'lines.linewidth' : 3,\n",
    "                     'lines.markersize': 20})\n",
    "\n",
    "\n",
    "#------------------------------------\n",
    "# Expected Violation\n",
    "#------------------------------------\n",
    "\n",
    "plt.figure(figsize=[8, 6])\n",
    "plt.grid(False)\n",
    "\n",
    "plt.ticklabel_format(style='sci', axis='y', scilimits=(0,0))\n",
    "plt.ticklabel_format(style='sci', axis='x', scilimits=(3,3))\n",
    "plt.xlim([0, T])\n",
    "#plt.ylim([0, 5000])\n",
    "\n",
    "x_ticks = np.arange(0, T)\n",
    "\n",
    "plt.plot(x_ticks, np.mean( lincon_kl_ucb_cum_violation, axis=0))\n",
    "plt.plot(x_ticks, np.mean( lincon_ts_cum_violation, axis=0))\n",
    "\n",
    "plt.legend(['LinCon-KL-UCB', 'LinConTS'], loc='upper left', fontsize=20)\n",
    "plt.xlabel('T')\n",
    "plt.ylabel('Violation')\n",
    "\n",
    "plt.savefig( results_dir + filename + '_VIOLATION' + image_format, bbox_inches='tight')\n",
    "\n",
    "plt.show()\n",
    "\n",
    "#------------------------------------\n",
    "# Expected Regret\n",
    "#------------------------------------\n",
    "\n",
    "plt.figure(figsize=[8, 6])\n",
    "plt.grid(False)\n",
    "\n",
    "plt.ticklabel_format(style='sci', axis='y', scilimits=(0,0))\n",
    "plt.ticklabel_format(style='sci', axis='x', scilimits=(3,3))\n",
    "plt.xlim([0, T])\n",
    "#plt.ylim([0, 2000])\n",
    "\n",
    "x_ticks = np.arange(0, T)\n",
    "\n",
    "plt.plot(x_ticks, np.mean( lincon_kl_ucb_cum_regret, axis=0 ) )\n",
    "plt.plot(x_ticks, np.mean( lincon_ts_cum_regret, axis=0 ) )\n",
    "\n",
    "plt.legend(['LinCon-KL-UCB', 'LinConTS'], loc='upper left', fontsize=20)\n",
    "plt.xlabel('T')\n",
    "plt.ylabel('Regret')\n",
    "\n",
    "plt.savefig( results_dir + filename + '_REGRET' + image_format, bbox_inches='tight')\n",
    "\n",
    "plt.show()"
   ]
  },
  {
   "cell_type": "code",
   "execution_count": null,
   "metadata": {},
   "outputs": [],
   "source": [
    "plt.rcParams.update({'font.size': 30, \n",
    "                     'lines.linewidth' : 3,\n",
    "                     'lines.markersize': 20})\n",
    "\n",
    "#------------------------------------\n",
    "# Expected Reward\n",
    "#------------------------------------\n",
    "\n",
    "plt.figure(figsize=[8, 6])\n",
    "plt.grid(False)\n",
    "\n",
    "plt.ticklabel_format(style='sci', axis='y', scilimits=(0,0))\n",
    "plt.ticklabel_format(style='sci', axis='x', scilimits=(3,3))\n",
    "plt.xlim([0, T])\n",
    "#plt.ylim([0, 2000])\n",
    "\n",
    "x_ticks = np.arange(0, T)\n",
    "\n",
    "plt.plot(x_ticks, np.mean( lincon_kl_ucb_cum_reward, axis=0 ) )\n",
    "plt.plot(x_ticks, np.mean( lincon_ts_cum_reward, axis=0 ) )\n",
    "\n",
    "plt.legend(['LinCon-KL-UCB', 'LinConTS'], loc='upper left', fontsize=20)\n",
    "plt.xlabel('T')\n",
    "plt.ylabel('Cumulative Reward ')\n",
    "\n",
    "plt.savefig( results_dir + filename + '_REWARD' + image_format, bbox_inches='tight')\n",
    "\n",
    "plt.show()\n",
    "\n",
    "#------------------------------------\n",
    "# Expected Reward / Expected Violation\n",
    "#------------------------------------\n",
    "\n",
    "plt.figure(figsize=[8, 6])\n",
    "plt.grid(False)\n",
    "\n",
    "plt.ticklabel_format(style='sci', axis='y', scilimits=(0,0))\n",
    "plt.ticklabel_format(style='sci', axis='x', scilimits=(3,3))\n",
    "plt.xlim([0, T])\n",
    "\n",
    "offset = 0\n",
    "x_ticks = np.arange(offset, T)\n",
    "\n",
    "plt.plot(x_ticks, np.divide( np.mean( lincon_kl_ucb_cum_reward, axis=0), \n",
    "                             np.mean( lincon_kl_ucb_cum_violation, axis=0)) )\n",
    "plt.plot(x_ticks, np.divide( np.mean( lincon_ts_cum_reward, axis=0), \n",
    "                             np.mean( lincon_ts_cum_violation, axis=0) ) )\n",
    "\n",
    "plt.legend(['LinCon-KL-UCB', 'LinConTS'], loc='upper left', fontsize=20)\n",
    "plt.xlabel('T')\n",
    "plt.ylabel('Cum. Reward / Violation')\n",
    "\n",
    "plt.savefig( results_dir + filename + '_REWARD_VIO' + image_format, bbox_inches='tight')\n",
    "\n",
    "plt.show()"
   ]
  },
  {
   "cell_type": "code",
   "execution_count": null,
   "metadata": {},
   "outputs": [],
   "source": []
  },
  {
   "cell_type": "code",
   "execution_count": null,
   "metadata": {},
   "outputs": [],
   "source": []
  },
  {
   "cell_type": "code",
   "execution_count": null,
   "metadata": {},
   "outputs": [],
   "source": []
  }
 ],
 "metadata": {
  "kernelspec": {
   "display_name": "Python 3",
   "language": "python",
   "name": "python3"
  },
  "language_info": {
   "codemirror_mode": {
    "name": "ipython",
    "version": 3
   },
   "file_extension": ".py",
   "mimetype": "text/x-python",
   "name": "python",
   "nbconvert_exporter": "python",
   "pygments_lexer": "ipython3",
   "version": "3.6.8"
  }
 },
 "nbformat": 4,
 "nbformat_minor": 2
}
