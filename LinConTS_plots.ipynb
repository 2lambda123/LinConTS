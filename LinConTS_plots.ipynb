{
 "cells": [
  {
   "cell_type": "markdown",
   "metadata": {},
   "source": [
    "# Thompson Sampling with Soft Constraints: \n",
    "# Finite-Time Analysis and Regret Bounds"
   ]
  },
  {
   "cell_type": "code",
   "execution_count": null,
   "metadata": {},
   "outputs": [],
   "source": [
    "import numpy as np\n",
    "from matplotlib import pyplot as plt"
   ]
  },
  {
   "cell_type": "markdown",
   "metadata": {},
   "source": [
    "# Load Data"
   ]
  },
  {
   "cell_type": "code",
   "execution_count": null,
   "metadata": {},
   "outputs": [],
   "source": [
    "data = np.load('RESULTS_edX_T1000_N4.npy', allow_pickle=True)[()]\n",
    "\n",
    "T = data['T']\n",
    "target_success_prob = data['constraint']\n",
    "\n",
    "oracle_avg_reward        = np.mean( data['oracle_reward_values'], axis=0 )\n",
    "lincon_kl_ucb_avg_reward = np.mean( data['lincon_kl_ucb_reward_values'], axis=0 )\n",
    "lincon_ts_avg_reward     = np.mean( data['lincon_ts_reward_values'], axis=0 )\n",
    "\n",
    "oracle_avg_success        = np.mean( data['oracle_reward_events'], axis=0 )\n",
    "lincon_kl_ucb_avg_success = np.mean( data['lincon_kl_ucb_reward_events'], axis=0 )\n",
    "lincon_ts_avg_success     = np.mean( data['lincon_ts_reward_events'], axis=0 )"
   ]
  },
  {
   "cell_type": "code",
   "execution_count": null,
   "metadata": {},
   "outputs": [],
   "source": [
    "oracle_cum_reward        = np.cumsum( oracle_avg_reward )\n",
    "lincon_kl_ucb_cum_reward = np.cumsum( lincon_kl_ucb_avg_reward )\n",
    "lincon_ts_cum_reward     = np.cumsum( lincon_ts_avg_reward )\n",
    "\n",
    "cum_constraint = target_success_prob * np.arange( 0, T, 1)\n",
    "\n",
    "oracle_cum_violation        = np.maximum( 0.0, cum_constraint - np.cumsum( oracle_avg_success ) )\n",
    "lincon_kl_ucb_cum_violation = np.maximum( 0.0, cum_constraint - np.cumsum( lincon_kl_ucb_avg_success ) )\n",
    "lincon_ts_cum_violation     = np.maximum( 0.0, cum_constraint - np.cumsum( lincon_ts_avg_success ) )\n",
    "\n",
    "lincon_kl_ucb_cum_regret = np.maximum(0.0, oracle_cum_reward - lincon_kl_ucb_cum_reward)\n",
    "lincon_ts_cum_regret     = np.maximum(0.0, oracle_cum_reward - lincon_ts_cum_reward)\n",
    "\n",
    "sampling_interval = 1#int( T / 10 )"
   ]
  },
  {
   "cell_type": "markdown",
   "metadata": {},
   "source": [
    "# Plot Results"
   ]
  },
  {
   "cell_type": "code",
   "execution_count": null,
   "metadata": {
    "scrolled": false
   },
   "outputs": [],
   "source": [
    "plt.rcParams.update({'font.size': 30, \n",
    "                     'lines.linewidth' : 3,\n",
    "                     'lines.markersize': 20})\n",
    "\n",
    "#------------------------------------\n",
    "# Cum. Reward / Cum. Violation\n",
    "#------------------------------------\n",
    "\n",
    "plt.figure(figsize=[12, 8])\n",
    "plt.grid(True)\n",
    "\n",
    "plt.ticklabel_format(style='sci', axis='y', scilimits=(0,0))\n",
    "plt.ticklabel_format(style='sci', axis='x', scilimits=(3,3))\n",
    "plt.xlim([0, T])\n",
    "\n",
    "offset = 0\n",
    "x_ticks = np.arange(offset, T)\n",
    "samples = np.arange(0, T, sampling_interval)\n",
    "\n",
    "plt.plot(x_ticks[samples], np.divide( lincon_kl_ucb_cum_reward[offset:], lincon_kl_ucb_cum_violation[offset:])[samples])\n",
    "plt.plot(x_ticks[samples], np.divide( lincon_ts_cum_reward[offset:], lincon_ts_cum_violation[offset:])[samples])\n",
    "\n",
    "plt.legend(['LinCon-KL-UCB', 'LinConTS'], loc='upper left', fontsize=25)\n",
    "plt.xlabel('T')\n",
    "plt.ylabel('Throughput / Violation')\n",
    "\n",
    "plt.show()\n",
    "\n",
    "#------------------------------------\n",
    "# Cum. Violation\n",
    "#------------------------------------\n",
    "\n",
    "plt.figure(figsize=[12, 8])\n",
    "plt.grid(True)\n",
    "\n",
    "plt.ticklabel_format(style='sci', axis='y', scilimits=(0,0))\n",
    "plt.ticklabel_format(style='sci', axis='x', scilimits=(3,3))\n",
    "plt.xlim([0, T])\n",
    "#plt.ylim([0, 5000])\n",
    "\n",
    "x_ticks = np.arange(0, T)\n",
    "samples = np.arange(0, T, sampling_interval)\n",
    "\n",
    "plt.plot(x_ticks[samples], lincon_kl_ucb_cum_violation[samples])#, 'k-^')\n",
    "plt.plot(x_ticks[samples], lincon_ts_cum_violation[samples])#, 'k-s')\n",
    "\n",
    "plt.legend(['LinCon-KL-UCB', 'LinConTS'], loc='upper left', fontsize=25)\n",
    "plt.xlabel('T')\n",
    "plt.ylabel('Violation')\n",
    "\n",
    "plt.show()"
   ]
  },
  {
   "cell_type": "code",
   "execution_count": null,
   "metadata": {},
   "outputs": [],
   "source": [
    "#------------------------------------\n",
    "# Cum. Reward\n",
    "#------------------------------------\n",
    "\n",
    "plt.figure(figsize=[12, 8])\n",
    "plt.grid(True)\n",
    "\n",
    "plt.ticklabel_format(style='sci', axis='y', scilimits=(0,0))\n",
    "plt.ticklabel_format(style='sci', axis='x', scilimits=(3,3))\n",
    "plt.xlim([0, T])\n",
    "#plt.ylim([0, 2000])\n",
    "\n",
    "x_ticks = np.arange(0, T)\n",
    "samples = np.arange(0, T, sampling_interval)\n",
    "\n",
    "#plt.plot(x_ticks[samples], con_ucb_cum_reward[samples], 'k-v')\n",
    "plt.plot(x_ticks[samples], lincon_kl_ucb_cum_reward[samples])#, 'k-^')\n",
    "plt.plot(x_ticks[samples], lincon_ts_cum_reward[samples])#, 'k-s')\n",
    "\n",
    "plt.legend(['LinCon-KL-UCB', 'LinConTS'], loc='upper left')\n",
    "plt.xlabel('Time interval, $t$')\n",
    "plt.ylabel('Throughput')\n",
    "\n",
    "plt.show()\n",
    "\n",
    "#------------------------------------\n",
    "# Cum. Regret\n",
    "#------------------------------------\n",
    "\n",
    "plt.figure(figsize=[12, 8])\n",
    "plt.grid(True)\n",
    "\n",
    "plt.ticklabel_format(style='sci', axis='y', scilimits=(0,0))\n",
    "plt.ticklabel_format(style='sci', axis='x', scilimits=(3,3))\n",
    "plt.xlim([0, T])\n",
    "#plt.ylim([0, 2000])\n",
    "\n",
    "x_ticks = np.arange(0, T)\n",
    "samples = np.arange(0, T, sampling_interval)\n",
    "\n",
    "plt.plot(x_ticks[samples], lincon_kl_ucb_cum_regret[samples])#, 'k-^')\n",
    "plt.plot(x_ticks[samples], lincon_ts_cum_regret[samples])#, 'k-s')\n",
    "\n",
    "plt.legend(['LinCon-KL-UCB', 'LinConTS'], loc='upper left')\n",
    "plt.xlabel('Time interval, $t$')\n",
    "plt.ylabel('Regret')\n",
    "\n",
    "plt.show()"
   ]
  },
  {
   "cell_type": "code",
   "execution_count": null,
   "metadata": {},
   "outputs": [],
   "source": []
  },
  {
   "cell_type": "code",
   "execution_count": null,
   "metadata": {},
   "outputs": [],
   "source": []
  }
 ],
 "metadata": {
  "kernelspec": {
   "display_name": "Python 3",
   "language": "python",
   "name": "python3"
  },
  "language_info": {
   "codemirror_mode": {
    "name": "ipython",
    "version": 3
   },
   "file_extension": ".py",
   "mimetype": "text/x-python",
   "name": "python",
   "nbconvert_exporter": "python",
   "pygments_lexer": "ipython3",
   "version": "3.6.8"
  }
 },
 "nbformat": 4,
 "nbformat_minor": 2
}
